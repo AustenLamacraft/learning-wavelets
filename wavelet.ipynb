{
  "nbformat": 4,
  "nbformat_minor": 0,
  "metadata": {
    "colab": {
      "name": "wavelet.ipynb",
      "version": "0.3.2",
      "provenance": [],
      "collapsed_sections": [],
      "include_colab_link": true
    },
    "kernelspec": {
      "name": "python3",
      "display_name": "Python 3"
    }
  },
  "cells": [
    {
      "cell_type": "markdown",
      "metadata": {
        "id": "view-in-github",
        "colab_type": "text"
      },
      "source": [
        "<a href=\"https://colab.research.google.com/github/AustenLamacraft/learning-wavelets/blob/master/wavelet.ipynb\" target=\"_parent\"><img src=\"https://colab.research.google.com/assets/colab-badge.svg\" alt=\"Open In Colab\"/></a>"
      ]
    },
    {
      "cell_type": "code",
      "metadata": {
        "id": "fffWYpdakFBc",
        "colab_type": "code",
        "colab": {
          "base_uri": "https://localhost:8080/",
          "height": 69
        },
        "outputId": "b8f3620f-810f-4541-e7ca-39ea38e722e7"
      },
      "source": [
        "from __future__ import absolute_import, division, print_function, unicode_literals\n",
        "\n",
        "!pip install -q tensorflow-gpu==2.0.0-beta1\n",
        "!pip install -q tensorflow-probability\n",
        "import tensorflow as tf\n",
        "import tensorflow_probability as tfp\n",
        "import math\n",
        "import numpy as np"
      ],
      "execution_count": 1,
      "outputs": [
        {
          "output_type": "stream",
          "text": [
            "\u001b[K     |████████████████████████████████| 348.9MB 62kB/s \n",
            "\u001b[K     |████████████████████████████████| 501kB 45.0MB/s \n",
            "\u001b[K     |████████████████████████████████| 3.1MB 34.5MB/s \n",
            "\u001b[?25h"
          ],
          "name": "stdout"
        }
      ]
    },
    {
      "cell_type": "code",
      "metadata": {
        "id": "zawfLXHCkXvI",
        "colab_type": "code",
        "colab": {}
      },
      "source": [
        "tf.keras.backend.clear_session()  # For easy reset of notebook state."
      ],
      "execution_count": 0,
      "outputs": []
    },
    {
      "cell_type": "code",
      "metadata": {
        "id": "RkLAHmkDI1Hd",
        "colab_type": "code",
        "colab": {}
      },
      "source": [
        "def convolve_circular(a, b):\n",
        "  '''\n",
        "  a: vector\n",
        "  b: kernel\n",
        "  Requires that 2*tf.size(b) <= tf.size(a). If this is not satisfied, overlap\n",
        "  will occur in the convolution.\n",
        "  '''\n",
        "  b_padding = tf.constant([[0, int(tf.size(a) - tf.size(b))]])\n",
        "  b_padded = tf.pad(b, b_padding, \"CONSTANT\")\n",
        "  a_fft = tf.signal.fft(tf.complex(a, 0.0))\n",
        "  b_fft = tf.signal.fft(tf.complex(b_padded, 0.0))\n",
        "  ifft = tf.signal.ifft(a_fft * b_fft)\n",
        "  return tf.cast(tf.math.real(ifft), 'float32')"
      ],
      "execution_count": 0,
      "outputs": []
    },
    {
      "cell_type": "code",
      "metadata": {
        "id": "aM6ko1LQkc6S",
        "colab_type": "code",
        "colab": {}
      },
      "source": [
        "class Lifting(tfp.bijectors.Bijector):\n",
        "\n",
        "  def __init__(self, validate_args=False, name=\"lifting\", n_lifting_coeffs=2):\n",
        "    super(Exp, self).__init__(\n",
        "        validate_args=validate_args,\n",
        "        forward_min_event_ndims=1,\n",
        "        name=name)\n",
        "    self.n_lifting_coeffs = n_lifting_coeffs\n",
        "    self.s_coeff = tf.Variable(initial_value=tf.random.uniform(shape=(n_lifting_coeffs,)))  \n",
        "    self.t_coeff = tf.Variable(initial_value=tf.random.uniform(shape=(n_lifting_coeffs,)))\n",
        "    self.K = tf.Variable(initial_value=1, dtype='float32')\n",
        "\n",
        "  def _forward(self, x):\n",
        "    x_evens = x[0::2]\n",
        "    x_odds = x[1::2]\n",
        "    odds_conv_s = convolve_circular(x_odds, self.s_coeff)\n",
        "    ulp = x_evens - odds_conv_s  # ulp: unnormalized lowpass\n",
        "    ulp_conv_t = convolve_circular(ulp, self.t_coeff)\n",
        "    ubp = x_evens - ulp_conv_t  # ubp: unnormalized bandpass\n",
        "    lp = ulp * tf.broadcast_to(1/K, lp.shape)\n",
        "    bp = ubp * tf.broadcast_to(K, lp.shape)\n",
        "\n",
        "  def _inverse(self, y):\n",
        "    # TODO\n",
        "    pass\n",
        "\n",
        "  def _inverse_log_det_jacobian(self, y):\n",
        "    return 0\n",
        "\n",
        "  def _forward_log_det_jacobian(self, x):\n",
        "    return 0"
      ],
      "execution_count": 0,
      "outputs": []
    },
    {
      "cell_type": "code",
      "metadata": {
        "id": "LOTRcNF_urZI",
        "colab_type": "code",
        "colab": {}
      },
      "source": [
        "t = tf.constant([1,1,1], dtype='float32')"
      ],
      "execution_count": 0,
      "outputs": []
    },
    {
      "cell_type": "code",
      "metadata": {
        "id": "_UORt3N4yx-Y",
        "colab_type": "code",
        "colab": {}
      },
      "source": [
        "v = tf.Variable(initial_value=[1,2,3,4,5,6,7], dtype='float32')"
      ],
      "execution_count": 0,
      "outputs": []
    },
    {
      "cell_type": "code",
      "metadata": {
        "id": "vH7WG6Cn6JLf",
        "colab_type": "code",
        "colab": {
          "base_uri": "https://localhost:8080/",
          "height": 34
        },
        "outputId": "8d4906b4-c327-456c-d4a6-1492c1f21c24"
      },
      "source": [
        " v * tf.broadcast_to(tf.Variable(initial_value=1, dtype='float32'), v.shape)"
      ],
      "execution_count": 52,
      "outputs": [
        {
          "output_type": "execute_result",
          "data": {
            "text/plain": [
              "<tf.Tensor: id=285, shape=(7,), dtype=float32, numpy=array([1., 2., 3., 4., 5., 6., 7.], dtype=float32)>"
            ]
          },
          "metadata": {
            "tags": []
          },
          "execution_count": 52
        }
      ]
    },
    {
      "cell_type": "code",
      "metadata": {
        "id": "FpeiWuep7LcW",
        "colab_type": "code",
        "colab": {
          "base_uri": "https://localhost:8080/",
          "height": 34
        },
        "outputId": "3730b785-7acd-41a5-e8d1-ed706a3455b8"
      },
      "source": [
        "1/tf.Variable(initial_value=2)"
      ],
      "execution_count": 54,
      "outputs": [
        {
          "output_type": "execute_result",
          "data": {
            "text/plain": [
              "<tf.Tensor: id=311, shape=(), dtype=float64, numpy=0.5>"
            ]
          },
          "metadata": {
            "tags": []
          },
          "execution_count": 54
        }
      ]
    },
    {
      "cell_type": "code",
      "metadata": {
        "id": "lATcxR0Nyj9F",
        "colab_type": "code",
        "colab": {}
      },
      "source": [
        "v = tf.constant(tf.random.uniform(shape=(4,)))"
      ],
      "execution_count": 0,
      "outputs": []
    }
  ]
}
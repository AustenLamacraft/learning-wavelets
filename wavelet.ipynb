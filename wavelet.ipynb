{
  "nbformat": 4,
  "nbformat_minor": 0,
  "metadata": {
    "colab": {
      "name": "wavelet.ipynb",
      "version": "0.3.2",
      "provenance": [],
      "collapsed_sections": [],
      "include_colab_link": true
    },
    "kernelspec": {
      "name": "python3",
      "display_name": "Python 3"
    }
  },
  "cells": [
    {
      "cell_type": "markdown",
      "metadata": {
        "id": "view-in-github",
        "colab_type": "text"
      },
      "source": [
        "<a href=\"https://colab.research.google.com/github/AustenLamacraft/learning-wavelets/blob/master/wavelet.ipynb\" target=\"_parent\"><img src=\"https://colab.research.google.com/assets/colab-badge.svg\" alt=\"Open In Colab\"/></a>"
      ]
    },
    {
      "cell_type": "code",
      "metadata": {
        "id": "fffWYpdakFBc",
        "colab_type": "code",
        "colab": {}
      },
      "source": [
        "from __future__ import absolute_import, division, print_function, unicode_literals\n",
        "\n",
        "!pip install -q tensorflow-gpu==2.0.0-beta1\n",
        "!pip install -q tensorflow-probability\n",
        "import tensorflow as tf\n",
        "import tensorflow_probability as tfp"
      ],
      "execution_count": 0,
      "outputs": []
    },
    {
      "cell_type": "code",
      "metadata": {
        "id": "zawfLXHCkXvI",
        "colab_type": "code",
        "colab": {}
      },
      "source": [
        "tf.keras.backend.clear_session()  # For easy reset of notebook state."
      ],
      "execution_count": 0,
      "outputs": []
    },
    {
      "cell_type": "code",
      "metadata": {
        "id": "aM6ko1LQkc6S",
        "colab_type": "code",
        "outputId": "9c90a447-deb9-44df-8b8e-1f9580ff67a7",
        "colab": {
          "base_uri": "https://localhost:8080/",
          "height": 69
        }
      },
      "source": [
        "class Lifting(Bijector):\n",
        "\n",
        "  def __init__(self, validate_args=False, name=\"lifting\", n_lifting_coeffs=2):\n",
        "    super(Exp, self).__init__(\n",
        "        validate_args=validate_args,\n",
        "        forward_min_event_ndims=1,\n",
        "        name=name)\n",
        "    self.n_lifting_coeffs = n_lifting_coeffs\n",
        "\n",
        "  def _forward(self, x):\n",
        "    # TODO\n",
        "\n",
        "  def _inverse(self, y):\n",
        "    # TODO\n",
        "\n",
        "  def _inverse_log_det_jacobian(self, y):\n",
        "    return 0\n",
        "\n",
        "  def _forward_log_det_jacobian(self, x):\n",
        "    return 0"
      ],
      "execution_count": 0,
      "outputs": [
        {
          "output_type": "stream",
          "text": [
            "tf.Tensor(\n",
            "[[ 0.01095894 -0.02076891  0.03318564  0.07053441]\n",
            " [ 0.01095894 -0.02076891  0.03318564  0.07053441]], shape=(2, 4), dtype=float32)\n"
          ],
          "name": "stdout"
        }
      ]
    }
  ]
}
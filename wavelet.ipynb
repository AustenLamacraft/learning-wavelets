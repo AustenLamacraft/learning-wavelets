{
 "cells": [
  {
   "cell_type": "markdown",
   "metadata": {
    "colab_type": "text",
    "id": "view-in-github"
   },
   "source": [
    "<a href=\"https://colab.research.google.com/github/AustenLamacraft/learning-wavelets/blob/master/wavelet.ipynb\" target=\"_parent\"><img src=\"https://colab.research.google.com/assets/colab-badge.svg\" alt=\"Open In Colab\"/></a>"
   ]
  },
  {
   "cell_type": "code",
   "execution_count": 11,
   "metadata": {
    "colab": {
     "base_uri": "https://localhost:8080/",
     "height": 69
    },
    "colab_type": "code",
    "id": "fffWYpdakFBc",
    "outputId": "b8f3620f-810f-4541-e7ca-39ea38e722e7"
   },
   "outputs": [],
   "source": [
    "from __future__ import absolute_import, division, print_function, unicode_literals\n",
    "\n",
    "# !pip install -q tensorflow-gpu==2.0.0-beta1\n",
    "# !pip install -q tensorflow-probability\n",
    "import tensorflow as tf\n",
    "import tensorflow_probability as tfp\n",
    "import math\n",
    "import numpy as np"
   ]
  },
  {
   "cell_type": "code",
   "execution_count": 12,
   "metadata": {
    "colab": {},
    "colab_type": "code",
    "id": "zawfLXHCkXvI"
   },
   "outputs": [],
   "source": [
    "tf.keras.backend.clear_session()  # For easy reset of notebook state."
   ]
  },
  {
   "cell_type": "code",
   "execution_count": 13,
   "metadata": {
    "colab": {},
    "colab_type": "code",
    "id": "RkLAHmkDI1Hd"
   },
   "outputs": [],
   "source": [
    "def convolve_circular(a, b):\n",
    "  '''\n",
    "  a: vector\n",
    "  b: kernel\n",
    "  Requires that 2*tf.size(b) <= tf.size(a). If this is not satisfied, overlap\n",
    "  will occur in the convolution.\n",
    "  '''\n",
    "  b_padding = tf.constant([[0, int(tf.size(a) - tf.size(b))]])\n",
    "  b_padded = tf.pad(b, b_padding, \"CONSTANT\")\n",
    "  a_fft = tf.signal.fft(tf.complex(a, 0.0))\n",
    "  b_fft = tf.signal.fft(tf.complex(b_padded, 0.0))\n",
    "  ifft = tf.signal.ifft(a_fft * b_fft)\n",
    "  return tf.cast(tf.math.real(ifft), 'float32')"
   ]
  },
  {
   "cell_type": "code",
   "execution_count": 31,
   "metadata": {
    "colab": {},
    "colab_type": "code",
    "id": "aM6ko1LQkc6S"
   },
   "outputs": [],
   "source": [
    "class Lifting(tfp.bijectors.Bijector):\n",
    "  '''\n",
    "  See https://uk.mathworks.com/help/wavelet/ug/lifting-method-for-constructing-wavelets.html\n",
    "  for notation.\n",
    "  '''\n",
    "  def __init__(self, validate_args=False, name=\"lifting\", n_lifting_coeffs=2):\n",
    "    super(Lifting, self).__init__(\n",
    "        validate_args=validate_args,\n",
    "        forward_min_event_ndims=1,\n",
    "        name=name)\n",
    "    self.n_lifting_coeffs = n_lifting_coeffs\n",
    "    self.P_coeff = tf.Variable(initial_value=tf.random.uniform(shape=(n_lifting_coeffs,)))  # P: predict (primal lifting)\n",
    "    self.U_coeff = tf.Variable(initial_value=tf.random.uniform(shape=(n_lifting_coeffs,)))  # U: update (dual lifting)\n",
    "\n",
    "  def _forward(self, x):\n",
    "    x_evens = x[0::2]\n",
    "    x_odds = x[1::2]\n",
    "    evens_conv_P = convolve_circular(x_evens, self.P_coeff)\n",
    "    detail = x_odds - evens_conv_P\n",
    "    detail_conv_U = convolve_circular(detail, self.U_coeff)\n",
    "    average = x_evens + detail_conv_U\n",
    "    return tf.stack([average, detail])\n",
    "\n",
    "  def _inverse(self, y):\n",
    "    average = y[0,:]\n",
    "    detail = y[1,:]\n",
    "    detail_conv_U = convolve_circular(detail, self.U_coeff)\n",
    "    x_evens = average - detail_conv_U\n",
    "    evens_conv_P = convolve_circular(x_evens, self.P_coeff)\n",
    "    x_odds = evens_conv_P + detail\n",
    "    x = tf.reshape(tf.stack([x_evens, x_odds], axis=1), shape=[-1])  # interleave evens and odds\n",
    "    return x\n",
    "\n",
    "  def _inverse_log_det_jacobian(self, y):\n",
    "    return 0  # QUESTION: Are these log determinants correct?\n",
    "\n",
    "  def _forward_log_det_jacobian(self, x):\n",
    "    return 0  # QUESTION: Are these log determinants correct?"
   ]
  },
  {
   "cell_type": "code",
   "execution_count": 32,
   "metadata": {
    "colab": {
     "base_uri": "https://localhost:8080/",
     "height": 69
    },
    "colab_type": "code",
    "id": "gHx1QXIZAT2Q",
    "outputId": "bd3be1b0-86ff-49b5-b5fd-b2bf37f25105"
   },
   "outputs": [
    {
     "name": "stdout",
     "output_type": "stream",
     "text": [
      "y =  tf.Tensor(\n",
      "[[-1.7183032  1.3564123  6.046655   6.9930687]\n",
      " [-3.8287673  1.2341118  0.4088254 -0.416461 ]], shape=(2, 4), dtype=float32)\n",
      "y_inv =  tf.Tensor([1. 2. 3. 4. 5. 6. 7. 8.], shape=(8,), dtype=float32)\n"
     ]
    }
   ],
   "source": [
    "lifting = Lifting()\n",
    "\n",
    "x = tf.constant([1,2,3,4,5,6,7,8], dtype='float32')\n",
    "\n",
    "y = lifting._forward(x)\n",
    "print(\"y = \",y)\n",
    "y_inv = lifting._inverse(y)\n",
    "print(\"y_inv = \", y_inv)"
   ]
  }
 ],
 "metadata": {
  "colab": {
   "collapsed_sections": [],
   "include_colab_link": true,
   "name": "wavelet.ipynb",
   "provenance": [],
   "version": "0.3.2"
  },
  "kernelspec": {
   "display_name": "wavelet",
   "language": "python",
   "name": "wavelet"
  },
  "language_info": {
   "codemirror_mode": {
    "name": "ipython",
    "version": 3
   },
   "file_extension": ".py",
   "mimetype": "text/x-python",
   "name": "python",
   "nbconvert_exporter": "python",
   "pygments_lexer": "ipython3",
   "version": "3.7.3"
  }
 },
 "nbformat": 4,
 "nbformat_minor": 4
}

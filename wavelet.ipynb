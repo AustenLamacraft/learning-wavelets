{
 "cells": [
  {
   "cell_type": "markdown",
   "metadata": {
    "colab_type": "text",
    "id": "view-in-github"
   },
   "source": [
    "<a href=\"https://colab.research.google.com/github/AustenLamacraft/learning-wavelets/blob/master/wavelet.ipynb\" target=\"_parent\"><img src=\"https://colab.research.google.com/assets/colab-badge.svg\" alt=\"Open In Colab\"/></a>"
   ]
  },
  {
   "cell_type": "code",
   "execution_count": 1,
   "metadata": {
    "colab": {
     "base_uri": "https://localhost:8080/",
     "height": 69
    },
    "colab_type": "code",
    "collapsed": true,
    "id": "fffWYpdakFBc",
    "jupyter": {
     "outputs_hidden": true
    },
    "outputId": "b8f3620f-810f-4541-e7ca-39ea38e722e7"
   },
   "outputs": [
    {
     "name": "stderr",
     "output_type": "stream",
     "text": [
      "/home/robert/opt/anaconda3/envs/wavelet/lib/python3.7/site-packages/tensorflow/python/framework/dtypes.py:516: FutureWarning: Passing (type, 1) or '1type' as a synonym of type is deprecated; in a future version of numpy, it will be understood as (type, (1,)) / '(1,)type'.\n",
      "  _np_qint8 = np.dtype([(\"qint8\", np.int8, 1)])\n",
      "/home/robert/opt/anaconda3/envs/wavelet/lib/python3.7/site-packages/tensorflow/python/framework/dtypes.py:517: FutureWarning: Passing (type, 1) or '1type' as a synonym of type is deprecated; in a future version of numpy, it will be understood as (type, (1,)) / '(1,)type'.\n",
      "  _np_quint8 = np.dtype([(\"quint8\", np.uint8, 1)])\n",
      "/home/robert/opt/anaconda3/envs/wavelet/lib/python3.7/site-packages/tensorflow/python/framework/dtypes.py:518: FutureWarning: Passing (type, 1) or '1type' as a synonym of type is deprecated; in a future version of numpy, it will be understood as (type, (1,)) / '(1,)type'.\n",
      "  _np_qint16 = np.dtype([(\"qint16\", np.int16, 1)])\n",
      "/home/robert/opt/anaconda3/envs/wavelet/lib/python3.7/site-packages/tensorflow/python/framework/dtypes.py:519: FutureWarning: Passing (type, 1) or '1type' as a synonym of type is deprecated; in a future version of numpy, it will be understood as (type, (1,)) / '(1,)type'.\n",
      "  _np_quint16 = np.dtype([(\"quint16\", np.uint16, 1)])\n",
      "/home/robert/opt/anaconda3/envs/wavelet/lib/python3.7/site-packages/tensorflow/python/framework/dtypes.py:520: FutureWarning: Passing (type, 1) or '1type' as a synonym of type is deprecated; in a future version of numpy, it will be understood as (type, (1,)) / '(1,)type'.\n",
      "  _np_qint32 = np.dtype([(\"qint32\", np.int32, 1)])\n",
      "/home/robert/opt/anaconda3/envs/wavelet/lib/python3.7/site-packages/tensorflow/python/framework/dtypes.py:525: FutureWarning: Passing (type, 1) or '1type' as a synonym of type is deprecated; in a future version of numpy, it will be understood as (type, (1,)) / '(1,)type'.\n",
      "  np_resource = np.dtype([(\"resource\", np.ubyte, 1)])\n",
      "/home/robert/opt/anaconda3/envs/wavelet/lib/python3.7/site-packages/tensorboard/compat/tensorflow_stub/dtypes.py:541: FutureWarning: Passing (type, 1) or '1type' as a synonym of type is deprecated; in a future version of numpy, it will be understood as (type, (1,)) / '(1,)type'.\n",
      "  _np_qint8 = np.dtype([(\"qint8\", np.int8, 1)])\n",
      "/home/robert/opt/anaconda3/envs/wavelet/lib/python3.7/site-packages/tensorboard/compat/tensorflow_stub/dtypes.py:542: FutureWarning: Passing (type, 1) or '1type' as a synonym of type is deprecated; in a future version of numpy, it will be understood as (type, (1,)) / '(1,)type'.\n",
      "  _np_quint8 = np.dtype([(\"quint8\", np.uint8, 1)])\n",
      "/home/robert/opt/anaconda3/envs/wavelet/lib/python3.7/site-packages/tensorboard/compat/tensorflow_stub/dtypes.py:543: FutureWarning: Passing (type, 1) or '1type' as a synonym of type is deprecated; in a future version of numpy, it will be understood as (type, (1,)) / '(1,)type'.\n",
      "  _np_qint16 = np.dtype([(\"qint16\", np.int16, 1)])\n",
      "/home/robert/opt/anaconda3/envs/wavelet/lib/python3.7/site-packages/tensorboard/compat/tensorflow_stub/dtypes.py:544: FutureWarning: Passing (type, 1) or '1type' as a synonym of type is deprecated; in a future version of numpy, it will be understood as (type, (1,)) / '(1,)type'.\n",
      "  _np_quint16 = np.dtype([(\"quint16\", np.uint16, 1)])\n",
      "/home/robert/opt/anaconda3/envs/wavelet/lib/python3.7/site-packages/tensorboard/compat/tensorflow_stub/dtypes.py:545: FutureWarning: Passing (type, 1) or '1type' as a synonym of type is deprecated; in a future version of numpy, it will be understood as (type, (1,)) / '(1,)type'.\n",
      "  _np_qint32 = np.dtype([(\"qint32\", np.int32, 1)])\n",
      "/home/robert/opt/anaconda3/envs/wavelet/lib/python3.7/site-packages/tensorboard/compat/tensorflow_stub/dtypes.py:550: FutureWarning: Passing (type, 1) or '1type' as a synonym of type is deprecated; in a future version of numpy, it will be understood as (type, (1,)) / '(1,)type'.\n",
      "  np_resource = np.dtype([(\"resource\", np.ubyte, 1)])\n"
     ]
    }
   ],
   "source": [
    "from __future__ import absolute_import, division, print_function, unicode_literals\n",
    "\n",
    "# !pip install -q tensorflow-gpu==2.0.0-beta1\n",
    "# !pip install -q tensorflow-probability\n",
    "import tensorflow as tf\n",
    "import tensorflow_probability as tfp\n",
    "import math\n",
    "import numpy as np"
   ]
  },
  {
   "cell_type": "code",
   "execution_count": 2,
   "metadata": {
    "colab": {},
    "colab_type": "code",
    "id": "zawfLXHCkXvI"
   },
   "outputs": [],
   "source": [
    "tf.keras.backend.clear_session()  # For easy reset of notebook state."
   ]
  },
  {
   "cell_type": "code",
   "execution_count": 3,
   "metadata": {
    "colab": {},
    "colab_type": "code",
    "id": "RkLAHmkDI1Hd"
   },
   "outputs": [],
   "source": [
    "def convolve_circular(a, b):\n",
    "  '''\n",
    "  a: vector\n",
    "  b: kernel\n",
    "  Requires that 2*tf.size(b) <= tf.size(a). If this is not satisfied, overlap\n",
    "  will occur in the convolution.\n",
    "  '''\n",
    "  b_padding = tf.constant([[0, int(tf.size(a) - tf.size(b))]])\n",
    "  b_padded = tf.pad(b, b_padding, \"CONSTANT\")\n",
    "  a_fft = tf.signal.fft(tf.complex(a, 0.0))\n",
    "  b_fft = tf.signal.fft(tf.complex(b_padded, 0.0))\n",
    "  ifft = tf.signal.ifft(a_fft * b_fft)\n",
    "  return tf.cast(tf.math.real(ifft), 'float32')"
   ]
  },
  {
   "cell_type": "code",
   "execution_count": 9,
   "metadata": {
    "colab": {},
    "colab_type": "code",
    "id": "aM6ko1LQkc6S"
   },
   "outputs": [],
   "source": [
    "class Lifting(tfp.bijectors.Bijector):\n",
    "\n",
    "  def __init__(self, validate_args=False, name=\"lifting\", n_lifting_coeffs=2):\n",
    "    super(Lifting, self).__init__(\n",
    "        validate_args=validate_args,\n",
    "        forward_min_event_ndims=1,\n",
    "        name=name)\n",
    "    self.n_lifting_coeffs = n_lifting_coeffs\n",
    "    self.s_coeff = tf.Variable(initial_value=tf.random.uniform(shape=(n_lifting_coeffs,)))  \n",
    "    self.t_coeff = tf.Variable(initial_value=tf.random.uniform(shape=(n_lifting_coeffs,)))\n",
    "    self.K = tf.Variable(initial_value=1, dtype='float32')\n",
    "\n",
    "  def _forward(self, x):\n",
    "    x_evens = x[0::2]\n",
    "    x_odds = x[1::2]\n",
    "    odds_conv_s = convolve_circular(x_odds, self.s_coeff)\n",
    "    ulp = x_evens - odds_conv_s  # ulp: unnormalized lowpass\n",
    "    ulp_conv_t = convolve_circular(ulp, self.t_coeff)\n",
    "    ubp = x_odds - ulp_conv_t  # ubp: unnormalized bandpass\n",
    "    lp = ulp * tf.broadcast_to(1/self.K, ulp.shape)\n",
    "    bp = ubp * tf.broadcast_to(self.K, ubp.shape)\n",
    "    return tf.stack([lp, bp])\n",
    "\n",
    "  def _inverse(self, y):\n",
    "    lp = y[0,:]\n",
    "    bp = y[1,:]\n",
    "    ulp = lp * tf.broadcast_to(self.K, lp.shape)\n",
    "    ubp = bp * tf.broadcast_to(1/self.K, lp.shape)\n",
    "    ulp_conv_t = convolve_circular(ulp, self.t_coeff)\n",
    "    x_odds = ulp_conv_t + ubp\n",
    "    odds_conv_s = convolve_circular(x_odds, self.s_coeff)\n",
    "    x_evens = odds_conv_s + ulp\n",
    "    x = tf.reshape(tf.stack([x_evens, x_odds], axis=1), shape=[-1])  # interleave evens and odds\n",
    "    return x\n",
    "\n",
    "  def _inverse_log_det_jacobian(self, y):\n",
    "    return 0  # QUESTION: Are these log determinants correct?\n",
    "\n",
    "  def _forward_log_det_jacobian(self, x):\n",
    "    return 0  # QUESTION: Are these log determinants correct?"
   ]
  },
  {
   "cell_type": "code",
   "execution_count": 10,
   "metadata": {
    "colab": {
     "base_uri": "https://localhost:8080/",
     "height": 69
    },
    "colab_type": "code",
    "id": "gHx1QXIZAT2Q",
    "outputId": "bd3be1b0-86ff-49b5-b5fd-b2bf37f25105"
   },
   "outputs": [
    {
     "name": "stdout",
     "output_type": "stream",
     "text": [
      "y =  tf.Tensor(\n",
      "[[-2.0710247   0.66218543  1.2215469   1.7809086 ]\n",
      " [ 1.8779012   4.551079    5.4880233   7.1662407 ]], shape=(2, 4), dtype=float32)\n",
      "y_inv =  tf.Tensor([1. 2. 3. 4. 5. 6. 7. 8.], shape=(8,), dtype=float32)\n"
     ]
    }
   ],
   "source": [
    "lifting = Lifting()\n",
    "\n",
    "x = tf.constant([1,2,3,4,5,6,7,8], dtype='float32')\n",
    "\n",
    "y = lifting._forward(x)\n",
    "print(\"y = \",y)\n",
    "y_inv = lifting._inverse(y)\n",
    "print(\"y_inv = \", y_inv)"
   ]
  }
 ],
 "metadata": {
  "colab": {
   "collapsed_sections": [],
   "include_colab_link": true,
   "name": "wavelet.ipynb",
   "provenance": [],
   "version": "0.3.2"
  },
  "kernelspec": {
   "display_name": "wavelet",
   "language": "python",
   "name": "wavelet"
  },
  "language_info": {
   "codemirror_mode": {
    "name": "ipython",
    "version": 3
   },
   "file_extension": ".py",
   "mimetype": "text/x-python",
   "name": "python",
   "nbconvert_exporter": "python",
   "pygments_lexer": "ipython3",
   "version": "3.7.3"
  }
 },
 "nbformat": 4,
 "nbformat_minor": 4
}

{
 "cells": [
  {
   "cell_type": "code",
   "execution_count": 1,
   "metadata": {},
   "outputs": [],
   "source": [
    "# See https://github.com/tensorflow/tensorflow/issues/31249\n",
    "import warnings\n",
    "warnings.simplefilter(action='ignore', category=FutureWarning)\n",
    "\n",
    "import time\n",
    "import numpy as np\n",
    "import matplotlib.pyplot as plt\n",
    "import tensorflow as tf\n",
    "import tensorflow_probability as tfp\n",
    "from tensorflow import keras\n",
    "from tensorflow.keras import layers\n",
    "\n",
    "tfd = tfp.distributions\n",
    "tfb = tfp.bijectors"
   ]
  },
  {
   "cell_type": "code",
   "execution_count": 3,
   "metadata": {},
   "outputs": [],
   "source": [
    "# tf.compat.v1.disable_eager_execution()"
   ]
  },
  {
   "cell_type": "code",
   "execution_count": 2,
   "metadata": {},
   "outputs": [],
   "source": [
    "batch_size=512\n",
    "x2_dist=tfd.Normal(loc=0., scale=4.)\n",
    "x2_samples = x2_dist.sample(batch_size)\n",
    "x1 = tfd.Normal(loc=.25 * tf.square(x2_samples),\n",
    "                scale=tf.ones(batch_size, dtype=tf.float32))\n",
    "x1_samples = x1.sample()\n",
    "x_samples = tf.stack([x1_samples, x2_samples], axis=1)"
   ]
  },
  {
   "cell_type": "code",
   "execution_count": 3,
   "metadata": {},
   "outputs": [
    {
     "data": {
      "text/plain": [
       "<matplotlib.collections.PathCollection at 0x7f468bc9a320>"
      ]
     },
     "execution_count": 3,
     "metadata": {},
     "output_type": "execute_result"
    },
    {
     "data": {
      "image/png": "[encoded data removed]",
      "text/plain": [
       "<Figure size 432x288 with 1 Axes>"
      ]
     },
     "metadata": {
      "needs_background": "light"
     },
     "output_type": "display_data"
    }
   ],
   "source": [
    "plt.scatter(x_samples[:,0], x_samples[:,1], s=.5)"
   ]
  },
  {
   "cell_type": "code",
   "execution_count": 4,
   "metadata": {},
   "outputs": [],
   "source": [
    "class LeakyReLU(tfb.Bijector):\n",
    "    def __init__(self, alpha=.5, validate_args=True, name=\"leaky_relu\"):\n",
    "        super().__init__(inverse_min_event_ndims=1, validate_args=validate_args, name=name)\n",
    "        self.alpha = alpha\n",
    "    \n",
    "    def _forward(self, x):\n",
    "        return tf.where(tf.greater_equal(x, 0), x, self.alpha * x)\n",
    "    \n",
    "    def _inverse(self, y):\n",
    "        return tf.where(tf.greater_equal(y, 0), y, 1./ self.alpha*y)\n",
    "    \n",
    "    def _inverse_log_det_jacobian(self, y):\n",
    "        I = tf.ones_like(y)\n",
    "        J_inv = tf.where(tf.greater_equal(y, 0), I, 1/self.alpha * I)\n",
    "        log_abs_det_j_inv = tf.math.log(tf.math.abs(J_inv))\n",
    "        return tf.reduce_sum(log_abs_det_j_inv, axis=1)"
   ]
  },
  {
   "cell_type": "code",
   "execution_count": 5,
   "metadata": {},
   "outputs": [],
   "source": [
    "def get_dist(var_list, num_layers):\n",
    "    base_dist = tfd.MultivariateNormalDiag(loc=tf.zeros([2], tf.float32))\n",
    "    bijectors = []\n",
    "    for i in range(num_layers):\n",
    "        V = var_list[4*i]\n",
    "        shift = var_list[4*i+1]\n",
    "        L = var_list[4*i+2]\n",
    "        alpha = var_list[4*i+3] + .1\n",
    "        bijectors.append(tfb.Affine(\n",
    "            scale_tril=tfd.fill_triangular(L),\n",
    "            scale_perturb_factor=V,\n",
    "            shift=shift,))\n",
    "        bijectors.append(LeakyReLU(alpha=alpha))\n",
    "    mlp_bijector = tfb.Chain(list(reversed(bijectors[:-1])), name='2d_mlp_bijector')\n",
    "    dist = tfd.TransformedDistribution(\n",
    "        distribution=base_dist,\n",
    "        bijector=mlp_bijector\n",
    "    )\n",
    "    return dist"
   ]
  },
  {
   "cell_type": "code",
   "execution_count": 6,
   "metadata": {},
   "outputs": [],
   "source": [
    "class NormalizingFlow(layers.Layer):\n",
    "\n",
    "    def __init__(self):\n",
    "        super().__init__()\n",
    "\n",
    "    def build(self, input_shape):\n",
    "        self.var_list = []\n",
    "        d, r = 2, 2\n",
    "        DTYPE = tf.float32\n",
    "        self.num_layers = 6\n",
    "        for i in range(self.num_layers):\n",
    "            V = self.add_weight(name='V', shape=[d,r], initializer=tf.compat.v1.glorot_uniform_initializer())\n",
    "            shift = self.add_weight(name='shift', shape=[d], initializer=tf.compat.v1.glorot_uniform_initializer())\n",
    "            L = self.add_weight(name='L', shape=[int(d * (d+1)/2)], initializer=tf.compat.v1.glorot_uniform_initializer())\n",
    "            alpha = self.add_weight(name='alpha', shape=[], initializer=tf.compat.v1.glorot_uniform_initializer())\n",
    "            self.var_list.extend([V, shift, L, alpha])\n",
    "\n",
    "    def call(self, inputs):\n",
    "        dist = get_dist(self.var_list, self.num_layers)\n",
    "        return dist.log_prob(inputs)"
   ]
  },
  {
   "cell_type": "code",
   "execution_count": 184,
   "metadata": {},
   "outputs": [],
   "source": [
    "normalizing_flow_layer = NormalizingFlow()"
   ]
  },
  {
   "cell_type": "code",
   "execution_count": 185,
   "metadata": {},
   "outputs": [
    {
     "data": {
      "text/plain": [
       "<tf.Tensor: id=266376, shape=(), dtype=float32, numpy=3667.6108>"
      ]
     },
     "execution_count": 185,
     "metadata": {},
     "output_type": "execute_result"
    }
   ],
   "source": [
    "-tf.reduce_mean(normalizing_flow_layer(x_samples))"
   ]
  },
  {
   "cell_type": "code",
   "execution_count": 8,
   "metadata": {},
   "outputs": [],
   "source": [
    "inputs = keras.Input(shape=x_samples.shape[-1], name='x_samples')\n",
    "outputs = NormalizingFlow()(inputs)\n",
    "model = keras.Model(inputs=inputs, outputs=outputs)"
   ]
  },
  {
   "cell_type": "code",
   "execution_count": 9,
   "metadata": {},
   "outputs": [],
   "source": [
    "optimizer = tf.keras.optimizers.Adam(1e-3)"
   ]
  },
  {
   "cell_type": "code",
   "execution_count": 10,
   "metadata": {},
   "outputs": [
    {
     "name": "stdout",
     "output_type": "stream",
     "text": [
      "Restored from ./tf_ckpts/ckpt-5\n"
     ]
    }
   ],
   "source": [
    "ckpt = tf.train.Checkpoint(step=tf.Variable(1), optimizer=optimizer, model=model)\n",
    "manager = tf.train.CheckpointManager(ckpt, './tf_ckpts', max_to_keep=3)\n",
    "ckpt.restore(manager.latest_checkpoint)\n",
    "if manager.latest_checkpoint:\n",
    "  print(\"Restored from {}\".format(manager.latest_checkpoint))\n",
    "else:\n",
    "  print(\"Initializing from scratch.\")"
   ]
  },
  {
   "cell_type": "code",
   "execution_count": 189,
   "metadata": {},
   "outputs": [],
   "source": [
    "@tf.function\n",
    "def train_step(x_samples):\n",
    "    with tf.GradientTape() as tape:\n",
    "        z_samples = model(x_samples)\n",
    "        loss = -tf.reduce_mean(z_samples)\n",
    "    print(\"loss: \", loss)\n",
    "    gradients = tape.gradient(loss, model.trainable_weights)\n",
    "    optimizer.apply_gradients(zip(gradients, model.trainable_weights))\n",
    "#     gradients = tape.gradient(loss, var_list)\n",
    "#     print(\"gradients: \", gradients[:-1])\n",
    "#     optimizer.apply_gradients(zip(gradients[:-1], var_list[:-1]))"
   ]
  },
  {
   "cell_type": "code",
   "execution_count": 190,
   "metadata": {},
   "outputs": [],
   "source": [
    "save_path = manager.save()"
   ]
  },
  {
   "cell_type": "code",
   "execution_count": 191,
   "metadata": {},
   "outputs": [
    {
     "name": "stdout",
     "output_type": "stream",
     "text": [
      "0\n",
      "loss:  Tensor(\"Neg:0\", shape=(), dtype=float32)\n"
     ]
    },
    {
     "name": "stderr",
     "output_type": "stream",
     "text": [
      "W0809 00:04:40.414765 140312706836288 optimizer_v2.py:979] Gradients does not exist for variables ['normalizing_flow_32/alpha:0'] when minimizing the loss.\n"
     ]
    },
    {
     "name": "stdout",
     "output_type": "stream",
     "text": [
      "loss:  Tensor(\"Neg:0\", shape=(), dtype=float32)\n"
     ]
    },
    {
     "name": "stderr",
     "output_type": "stream",
     "text": [
      "W0809 00:04:43.581470 140312706836288 optimizer_v2.py:979] Gradients does not exist for variables ['normalizing_flow_32/alpha:0'] when minimizing the loss.\n"
     ]
    },
    {
     "name": "stdout",
     "output_type": "stream",
     "text": [
      "200\n",
      "400\n",
      "600\n",
      "800\n",
      "Saved checkpoint for step 1000: ./tf_ckpts/ckpt-2\n",
      "1000\n",
      "1200\n",
      "1400\n",
      "1600\n",
      "1800\n",
      "Saved checkpoint for step 2000: ./tf_ckpts/ckpt-3\n",
      "2000\n",
      "2200\n",
      "2400\n",
      "2600\n",
      "2800\n",
      "Saved checkpoint for step 3000: ./tf_ckpts/ckpt-4\n",
      "3000\n",
      "3200\n",
      "3400\n",
      "3600\n",
      "3800\n",
      "Saved checkpoint for step 4000: ./tf_ckpts/ckpt-5\n"
     ]
    }
   ],
   "source": [
    "NUM_STEPS = 4_000\n",
    "global_step = []\n",
    "np_losses = []\n",
    "for i in range(NUM_STEPS):\n",
    "    ckpt.step.assign_add(1)\n",
    "    if int(ckpt.step) % 1000 == 0:\n",
    "        save_path = manager.save()\n",
    "        print(\"Saved checkpoint for step {}: {}\".format(int(ckpt.step), save_path))\n",
    "    if i%200 == 0:\n",
    "        print(i)\n",
    "    train_step(x_samples)"
   ]
  },
  {
   "cell_type": "code",
   "execution_count": null,
   "metadata": {},
   "outputs": [],
   "source": [
    "for example in toy_dataset():\n",
    "  loss = train_step(net, example, opt)\n",
    "  ckpt.step.assign_add(1)\n",
    "  if int(ckpt.step) % 10 == 0:\n",
    "    save_path = manager.save()\n",
    "    print(\"Saved checkpoint for step {}: {}\".format(int(ckpt.step), save_path))\n",
    "    print(\"loss {:1.2f}\".format(loss.numpy()))"
   ]
  }
 ],
 "metadata": {
  "kernelspec": {
   "display_name": "wavelet",
   "language": "python",
   "name": "wavelet"
  },
  "language_info": {
   "codemirror_mode": {
    "name": "ipython",
    "version": 3
   },
   "file_extension": ".py",
   "mimetype": "text/x-python",
   "name": "python",
   "nbconvert_exporter": "python",
   "pygments_lexer": "ipython3",
   "version": "3.7.3"
  }
 },
 "nbformat": 4,
 "nbformat_minor": 4
}

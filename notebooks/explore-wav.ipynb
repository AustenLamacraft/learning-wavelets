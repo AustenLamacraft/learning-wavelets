{
 "cells": [
  {
   "cell_type": "markdown",
   "metadata": {},
   "source": [
    "# Exploring WAV files\n",
    "\n",
    "## Decode standard compressed formats to `.wav`"
   ]
  },
  {
   "cell_type": "code",
   "execution_count": 112,
   "metadata": {},
   "outputs": [],
   "source": [
    "import sys, os, wave, contextlib, audioread\n",
    "import numpy as np"
   ]
  },
  {
   "cell_type": "markdown",
   "metadata": {},
   "source": [
    "Here's how to create a `.wav` file from (say) a `.mp3` file using the `audioread` library"
   ]
  },
  {
   "cell_type": "code",
   "execution_count": 15,
   "metadata": {},
   "outputs": [],
   "source": [
    "# This is from https://github.com/beetbox/audioread/blob/master/decode.py\n",
    "\n",
    "def decode(filename):\n",
    "    filename = os.path.abspath(os.path.expanduser(filename))\n",
    "    if not os.path.exists(filename):\n",
    "        print(\"File not found.\", file=sys.stderr)\n",
    "        sys.exit(1)\n",
    "\n",
    "    try:\n",
    "        with audioread.audio_open(filename) as f:\n",
    "            print('Input file: %i channels at %i Hz; %.1f seconds.' %\n",
    "                  (f.channels, f.samplerate, f.duration),\n",
    "                  file=sys.stderr)\n",
    "            print('Backend:', str(type(f).__module__).split('.')[1],\n",
    "                  file=sys.stderr)\n",
    "\n",
    "            with contextlib.closing(wave.open(filename + '.wav', 'w')) as of:\n",
    "                of.setnchannels(f.channels)\n",
    "                of.setframerate(f.samplerate)\n",
    "                of.setsampwidth(2)\n",
    "\n",
    "                for buf in f:\n",
    "                    of.writeframes(buf)\n",
    "\n",
    "    except audioread.DecodeError:\n",
    "        print(\"File could not be decoded.\", file=sys.stderr)\n",
    "        sys.exit(1)\n"
   ]
  },
  {
   "cell_type": "code",
   "execution_count": 16,
   "metadata": {},
   "outputs": [
    {
     "name": "stderr",
     "output_type": "stream",
     "text": [
      "Input file: 2 channels at 44100 Hz; 9.9 seconds.\n",
      "Backend: macca\n"
     ]
    }
   ],
   "source": [
    "decode(\"example.mp3\")"
   ]
  },
  {
   "cell_type": "markdown",
   "metadata": {},
   "source": [
    "## The format\n",
    "\n",
    "Use the `wave` module to read the raw bytes"
   ]
  },
  {
   "cell_type": "code",
   "execution_count": null,
   "metadata": {},
   "outputs": [],
   "source": [
    "wav_file = \"example.mp3.wav\""
   ]
  },
  {
   "cell_type": "code",
   "execution_count": 107,
   "metadata": {},
   "outputs": [
    {
     "name": "stdout",
     "output_type": "stream",
     "text": [
      "_wave_params(nchannels=2, sampwidth=2, framerate=44100, nframes=437919, comptype='NONE', compname='not compressed')\n"
     ]
    }
   ],
   "source": [
    "wav_file = os.path.abspath(os.path.expanduser(wav_file))\n",
    "with wave.open(wav_file, mode=None) as f:\n",
    "    print(f.getparams())\n",
    "    frames = f.readframes(16) # Get the first 16 frames"
   ]
  },
  {
   "cell_type": "markdown",
   "metadata": {},
   "source": [
    "Convert the bytes to integers. `sampwidth=2` indicates two bytes for each value i.e. 16 bit encoding. `nchannels=2` corresponds to stereo."
   ]
  },
  {
   "cell_type": "code",
   "execution_count": 133,
   "metadata": {},
   "outputs": [],
   "source": [
    "vals = np.array([], dtype=np.int16)\n",
    "for idx in range(len(frames) // 4):\n",
    "    vals = np.append(vals, int.from_bytes(frames[2*idx:2*idx+2], byteorder='little', signed=True))"
   ]
  },
  {
   "cell_type": "code",
   "execution_count": 137,
   "metadata": {
    "collapsed": true
   },
   "outputs": [
    {
     "data": {
      "text/plain": [
       "array([[-1,  0],\n",
       "       [ 1, -2],\n",
       "       [ 0,  2],\n",
       "       [-1, -1],\n",
       "       [ 1,  0],\n",
       "       [-1,  1],\n",
       "       [ 0, -2],\n",
       "       [ 0,  2]])"
      ]
     },
     "execution_count": 137,
     "metadata": {},
     "output_type": "execute_result"
    }
   ],
   "source": [
    "vals.reshape([-1,2])"
   ]
  },
  {
   "cell_type": "markdown",
   "metadata": {},
   "source": [
    "Note that `int.from_bytes` returns `int64` by default "
   ]
  },
  {
   "cell_type": "code",
   "execution_count": 138,
   "metadata": {},
   "outputs": [
    {
     "data": {
      "text/plain": [
       "dtype('int64')"
      ]
     },
     "execution_count": 138,
     "metadata": {},
     "output_type": "execute_result"
    }
   ],
   "source": [
    "vals.dtype"
   ]
  },
  {
   "cell_type": "markdown",
   "metadata": {},
   "source": [
    "## Read and decode to numpy array using `scipy.io.wavfile`\n",
    "\n",
    "This is more direct"
   ]
  },
  {
   "cell_type": "code",
   "execution_count": 42,
   "metadata": {},
   "outputs": [],
   "source": [
    "from scipy.io import wavfile"
   ]
  },
  {
   "cell_type": "code",
   "execution_count": 90,
   "metadata": {},
   "outputs": [],
   "source": [
    "_, vals = wavfile.read(wav_file)"
   ]
  },
  {
   "cell_type": "code",
   "execution_count": 93,
   "metadata": {},
   "outputs": [
    {
     "data": {
      "text/plain": [
       "array([[-1,  0],\n",
       "       [ 1, -2],\n",
       "       [ 0,  2],\n",
       "       [-1, -1],\n",
       "       [ 1,  0],\n",
       "       [-1,  1],\n",
       "       [ 0, -2],\n",
       "       [ 0,  2]], dtype=int16)"
      ]
     },
     "execution_count": 93,
     "metadata": {},
     "output_type": "execute_result"
    }
   ],
   "source": [
    "vals[:8]"
   ]
  },
  {
   "cell_type": "markdown",
   "metadata": {},
   "source": [
    "## WAV files in TensorFlow?\n",
    "\n",
    "I expect it can be done directly in TensorFlow..."
   ]
  },
  {
   "cell_type": "code",
   "execution_count": null,
   "metadata": {},
   "outputs": [],
   "source": []
  }
 ],
 "metadata": {
  "kernelspec": {
   "display_name": "Python (tensorflow 2)",
   "language": "python",
   "name": "tf2"
  },
  "language_info": {
   "codemirror_mode": {
    "name": "ipython",
    "version": 3
   },
   "file_extension": ".py",
   "mimetype": "text/x-python",
   "name": "python",
   "nbconvert_exporter": "python",
   "pygments_lexer": "ipython3",
   "version": "3.7.3"
  }
 },
 "nbformat": 4,
 "nbformat_minor": 2
}

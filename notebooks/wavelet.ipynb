{
 "cells": [
  {
   "cell_type": "markdown",
   "metadata": {
    "colab_type": "text",
    "id": "view-in-github"
   },
   "source": [
    "<a href=\"https://colab.research.google.com/github/AustenLamacraft/learning-wavelets/blob/master/wavelet.ipynb\" target=\"_parent\"><img src=\"https://colab.research.google.com/assets/colab-badge.svg\" alt=\"Open In Colab\"/></a>"
   ]
  },
  {
   "cell_type": "code",
   "execution_count": 1,
   "metadata": {
    "colab": {
     "base_uri": "https://localhost:8080/",
     "height": 69
    },
    "colab_type": "code",
    "id": "fffWYpdakFBc",
    "outputId": "b8f3620f-810f-4541-e7ca-39ea38e722e7"
   },
   "outputs": [
    {
     "name": "stdout",
     "output_type": "stream",
     "text": [
      "\u001b[31m  ERROR: Could not find a version that satisfies the requirement tensorflow-gpu==2.0.0-beta1 (from versions: none)\u001b[0m\r\n",
      "\u001b[31mERROR: No matching distribution found for tensorflow-gpu==2.0.0-beta1\u001b[0m\r\n"
     ]
    }
   ],
   "source": [
    "from __future__ import absolute_import, division, print_function, unicode_literals\n",
    "\n",
    "!pip install -q tensorflow-gpu==2.0.0-beta1\n",
    "!pip install -q tensorflow-probability\n",
    "import tensorflow as tf\n",
    "import tensorflow_probability as tfp\n",
    "import math\n",
    "import numpy as np"
   ]
  },
  {
   "cell_type": "code",
   "execution_count": 2,
   "metadata": {
    "colab": {},
    "colab_type": "code",
    "id": "zawfLXHCkXvI"
   },
   "outputs": [],
   "source": [
    "tf.keras.backend.clear_session()  # For easy reset of notebook state."
   ]
  },
  {
   "cell_type": "code",
   "execution_count": 3,
   "metadata": {
    "colab": {},
    "colab_type": "code",
    "id": "RkLAHmkDI1Hd"
   },
   "outputs": [],
   "source": [
    "def convolve_circular(a, b):\n",
    "  '''\n",
    "  a: vector\n",
    "  b: kernel\n",
    "  Requires that 2*tf.size(b) <= tf.size(a). If this is not satisfied, overlap\n",
    "  will occur in the convolution.\n",
    "  '''\n",
    "  b_padding = tf.constant([[0, int(tf.size(a) - tf.size(b))]])\n",
    "  b_padded = tf.pad(b, b_padding, \"CONSTANT\")\n",
    "  a_fft = tf.signal.fft(tf.complex(a, 0.0))\n",
    "  b_fft = tf.signal.fft(tf.complex(b_padded, 0.0))\n",
    "  ifft = tf.signal.ifft(a_fft * b_fft)\n",
    "  return tf.cast(tf.math.real(ifft), 'float32')"
   ]
  },
  {
   "cell_type": "code",
   "execution_count": 4,
   "metadata": {
    "colab": {},
    "colab_type": "code",
    "id": "aM6ko1LQkc6S"
   },
   "outputs": [],
   "source": [
    "class Lifting(tfp.bijectors.Bijector):\n",
    "\n",
    "  def __init__(self, validate_args=False, name=\"lifting\", n_lifting_coeffs=2):\n",
    "    super(Lifting, self).__init__(\n",
    "        validate_args=validate_args,\n",
    "        forward_min_event_ndims=1,\n",
    "        name=name)\n",
    "    self.n_lifting_coeffs = n_lifting_coeffs\n",
    "    self.s_coeff = tf.Variable(initial_value=tf.random.uniform(shape=(n_lifting_coeffs,)))  \n",
    "    self.t_coeff = tf.Variable(initial_value=tf.random.uniform(shape=(n_lifting_coeffs,)))\n",
    "    self.K = tf.Variable(initial_value=1, dtype='float32')\n",
    "\n",
    "  def _forward(self, x):\n",
    "    x_evens = x[0::2]\n",
    "    x_odds = x[1::2]\n",
    "    odds_conv_s = convolve_circular(x_odds, self.s_coeff)\n",
    "    ulp = x_evens - odds_conv_s  # ulp: unnormalized lowpass\n",
    "    ulp_conv_t = convolve_circular(ulp, self.t_coeff)\n",
    "    ubp = x_evens - ulp_conv_t  # ubp: unnormalized bandpass\n",
    "    lp = ulp * tf.broadcast_to(1/self.K, ulp.shape)\n",
    "    bp = ubp * tf.broadcast_to(self.K, ubp.shape)\n",
    "    return tf.stack([lp, bp])\n",
    "\n",
    "  def _inverse(self, y):\n",
    "    # TODO\n",
    "    pass\n",
    "\n",
    "  def _inverse_log_det_jacobian(self, y):\n",
    "    return 0\n",
    "\n",
    "  def _forward_log_det_jacobian(self, x):\n",
    "    return 0"
   ]
  },
  {
   "cell_type": "code",
   "execution_count": 7,
   "metadata": {
    "colab": {
     "base_uri": "https://localhost:8080/",
     "height": 69
    },
    "colab_type": "code",
    "id": "gHx1QXIZAT2Q",
    "outputId": "bd3be1b0-86ff-49b5-b5fd-b2bf37f25105"
   },
   "outputs": [
    {
     "data": {
      "text/plain": [
       "<tf.Tensor: id=272, shape=(2, 4), dtype=float32, numpy=\n",
       "array([[-1.9137051,  1.2909219,  2.142216 ,  2.9935102],\n",
       "       [ 1.8808206,  2.3854785,  3.1196704,  4.307269 ]], dtype=float32)>"
      ]
     },
     "execution_count": 7,
     "metadata": {},
     "output_type": "execute_result"
    }
   ],
   "source": [
    "lifting = Lifting()\n",
    "\n",
    "x = tf.constant([1,2,3,4,5,6,7,8], dtype='float32')\n",
    "\n",
    "lifting._forward(x)"
   ]
  },
  {
   "cell_type": "code",
   "execution_count": null,
   "metadata": {},
   "outputs": [],
   "source": []
  }
 ],
 "metadata": {
  "colab": {
   "collapsed_sections": [],
   "include_colab_link": true,
   "name": "wavelet.ipynb",
   "provenance": [],
   "version": "0.3.2"
  },
  "kernelspec": {
   "display_name": "Python (tensorflow 2)",
   "language": "python",
   "name": "tf2"
  },
  "language_info": {
   "codemirror_mode": {
    "name": "ipython",
    "version": 3
   },
   "file_extension": ".py",
   "mimetype": "text/x-python",
   "name": "python",
   "nbconvert_exporter": "python",
   "pygments_lexer": "ipython3",
   "version": "3.7.3"
  }
 },
 "nbformat": 4,
 "nbformat_minor": 1
}

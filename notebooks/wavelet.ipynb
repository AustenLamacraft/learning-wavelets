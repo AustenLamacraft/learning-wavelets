{
 "cells": [
  {
   "cell_type": "markdown",
   "metadata": {
    "colab_type": "text",
    "id": "view-in-github"
   },
   "source": [
    "<a href=\"https://colab.research.google.com/github/AustenLamacraft/learning-wavelets/blob/master/wavelet.ipynb\" target=\"_parent\"><img src=\"https://colab.research.google.com/assets/colab-badge.svg\" alt=\"Open In Colab\"/></a>"
   ]
  },
  {
   "cell_type": "code",
   "execution_count": 11,
   "metadata": {
    "colab": {
     "base_uri": "https://localhost:8080/",
     "height": 69
    },
    "colab_type": "code",
    "id": "fffWYpdakFBc",
    "outputId": "b8f3620f-810f-4541-e7ca-39ea38e722e7"
   },
   "outputs": [],
   "source": [
    "from __future__ import absolute_import, division, print_function, unicode_literals\n",
    "\n",
    "# !pip install -q tensorflow-gpu==2.0.0-beta1\n",
    "# !pip install -q tensorflow-probability\n",
    "import tensorflow as tf\n",
    "import tensorflow_probability as tfp\n",
    "import math\n",
    "import numpy as np"
   ]
  },
  {
   "cell_type": "code",
   "execution_count": 271,
   "metadata": {
    "colab": {},
    "colab_type": "code",
    "id": "zawfLXHCkXvI"
   },
   "outputs": [],
   "source": [
    "tf.keras.backend.clear_session()  # For easy reset of notebook state."
   ]
  },
  {
   "cell_type": "code",
   "execution_count": 289,
   "metadata": {},
   "outputs": [],
   "source": [
    "def convolve_circular(a, b):\n",
    "    '''\n",
    "    a: vector\n",
    "    b: kernel (must have odd length!)\n",
    "    Naive implementation of circular convolution. The middle entry of b corresponds to the coefficient of z^0:\n",
    "    b[0] b[1] b[2] b[3] b[4]\n",
    "    z^-2 z^-1 z^0  z^1  z^2\n",
    "    '''\n",
    "    len_a = int(tf.size(a))\n",
    "    len_b = int(tf.size(b))\n",
    "    result = np.zeros(len_a)\n",
    "    for i in range(0, len_a):\n",
    "        for j in range(0, len_b):\n",
    "            result[i] += b[-j-1] * a[(i + (j - len_b//2)) % len_a]\n",
    "    return tf.constant(result, dtype='float32')"
   ]
  },
  {
   "cell_type": "code",
   "execution_count": 278,
   "metadata": {},
   "outputs": [
    {
     "name": "stdout",
     "output_type": "stream",
     "text": [
      "convolving  [1 2 3 4]  with  [-1  0  1]\n"
     ]
    },
    {
     "data": {
      "text/plain": [
       "<tf.Tensor: id=28320, shape=(4,), dtype=float32, numpy=array([ 2., -2., -2.,  2.], dtype=float32)>"
      ]
     },
     "execution_count": 278,
     "metadata": {},
     "output_type": "execute_result"
    }
   ],
   "source": [
    "convolve_circular(tf.constant([1,2,3,4,]), tf.constant([-1, 0, 1]))"
   ]
  },
  {
   "cell_type": "code",
   "execution_count": 290,
   "metadata": {
    "colab": {},
    "colab_type": "code",
    "id": "RkLAHmkDI1Hd"
   },
   "outputs": [],
   "source": [
    "# def convolve_circular_currently_unused(a, b):\n",
    "#   '''\n",
    "#   a: vector\n",
    "#   b: kernel\n",
    "#   Requires that 2*tf.size(b) <= tf.size(a). If this is not satisfied, overlap\n",
    "#   will occur in the convolution.\n",
    "#   '''\n",
    "#   b_padding = tf.constant([[0, int(tf.size(a) - tf.size(b))]])\n",
    "#   b_padded = tf.pad(b, b_padding, \"CONSTANT\")\n",
    "#   a_fft = tf.signal.fft(tf.complex(a, 0.0))\n",
    "#   b_fft = tf.signal.fft(tf.complex(b_padded, 0.0))\n",
    "#   ifft = tf.signal.ifft(a_fft * b_fft)\n",
    "#   return tf.cast(tf.math.real(ifft), 'float32')"
   ]
  },
  {
   "cell_type": "code",
   "execution_count": 374,
   "metadata": {
    "colab": {},
    "colab_type": "code",
    "id": "aM6ko1LQkc6S"
   },
   "outputs": [],
   "source": [
    "class Lifting(tfp.bijectors.Bijector):\n",
    "  '''\n",
    "  Input to _forward: 1D tensor of even length.\n",
    "  Output of _forward: Two stacked 1D tensors of the form [[lowpass wavelet coefficients], [highpass wavelet coefficients]]\n",
    "  See https://uk.mathworks.com/help/wavelet/ug/lifting-method-for-constructing-wavelets.html\n",
    "  for notation.\n",
    "  '''\n",
    "  def __init__(self,\n",
    "               validate_args=False,\n",
    "               name=\"lifting\",\n",
    "               n_lifting_coeffs=2,\n",
    "               P_coeff=tf.random.uniform(shape=(2,)),\n",
    "               U_coeff=tf.random.uniform(shape=(2,))):\n",
    "    super(Lifting, self).__init__(\n",
    "        validate_args=validate_args,\n",
    "        forward_min_event_ndims=1,\n",
    "        name=name)\n",
    "    self.n_lifting_coeffs = n_lifting_coeffs\n",
    "    self.P_coeff = tf.Variable(initial_value=P_coeff)  # P: predict (primal lifting)\n",
    "    self.U_coeff = tf.Variable(initial_value=U_coeff)  # U: update (dual lifting)\n",
    "\n",
    "  def _forward(self, x):\n",
    "    x_evens = x[0::2]\n",
    "    x_odds = x[1::2]\n",
    "    evens_conv_P = convolve_circular(x_evens, self.P_coeff)\n",
    "    detail = x_odds - evens_conv_P\n",
    "    detail_conv_U = convolve_circular(detail, self.U_coeff)\n",
    "    average = x_evens + detail_conv_U\n",
    "    return tf.stack([average, detail])\n",
    "\n",
    "  def _inverse(self, y):\n",
    "    average = y[0,:]\n",
    "    detail = y[1,:]\n",
    "    detail_conv_U = convolve_circular(detail, self.U_coeff)\n",
    "    x_evens = average - detail_conv_U\n",
    "    evens_conv_P = convolve_circular(x_evens, self.P_coeff)\n",
    "    x_odds = evens_conv_P + detail\n",
    "    x = tf.reshape(tf.stack([x_evens, x_odds], axis=1), shape=[-1])  # interleave evens and odds\n",
    "    return x\n",
    "\n",
    "  def _inverse_log_det_jacobian(self, y):\n",
    "    return 0  # QUESTION: Are these log determinants correct?\n",
    "\n",
    "  def _forward_log_det_jacobian(self, x):\n",
    "    return 0  # QUESTION: Are these log determinants correct?"
   ]
  },
  {
   "cell_type": "markdown",
   "metadata": {},
   "source": [
    "# Tests"
   ]
  },
  {
   "cell_type": "code",
   "execution_count": 276,
   "metadata": {},
   "outputs": [],
   "source": [
    "def test_lifting_layer(x, P_coeff, U_coeff, y_expected):\n",
    "    lifting = Lifting(P_coeff=P_coeff, U_coeff=U_coeff)\n",
    "    y_result = lifting._forward(x)\n",
    "    assert tf.reduce_all(tf.math.equal(y_expected, y_result))"
   ]
  },
  {
   "cell_type": "code",
   "execution_count": 371,
   "metadata": {},
   "outputs": [],
   "source": [
    "# Haar wavelet, verified with MATLAB:\n",
    "# y_expected = dwt(x, [1/2, 1/2], [1, -1]))\n",
    "test_lifting_layer(x=tf.constant([1,2,3,4,5,6,7,8], dtype='float32'),\n",
    "                   P_coeff=tf.constant([1.]),\n",
    "                   U_coeff=tf.constant([.5]),\n",
    "                   y_expected=tf.constant([[1.5, 3.5, 5.5, 7.5], [1.,  1.,  1.,  1.]]))"
   ]
  },
  {
   "cell_type": "code",
   "execution_count": 372,
   "metadata": {},
   "outputs": [],
   "source": [
    "# Wavelet with lowpass filter h(z) = (1/8) * (2z^3 - z^2 + 2z + 6 - z^-2) and highpass\n",
    "# filter g(z) = (-1/2)z^-2 - 1/2 + z.\n",
    "# The output can be verified by doing circular convolution manually. MATLAB's dwt is not\n",
    "# usable for verification, since it seems to only take causal filters as arguments.\n",
    "test_lifting_layer(x=tf.constant([1,2,3,4,5,6,7,8], dtype='float32'),\n",
    "                   P_coeff=tf.constant([0, .5, .5]),\n",
    "                   U_coeff=tf.constant([.25, .25, 0]),\n",
    "                   y_expected=tf.constant([[1., 4., 6., 7.], [-2., 2., 2., 2.]]))"
   ]
  },
  {
   "cell_type": "code",
   "execution_count": 373,
   "metadata": {},
   "outputs": [],
   "source": [
    "def test_lifting_layer_inverse():\n",
    "    lifting = Lifting()\n",
    "    x = tf.constant([1,2,3,4,5,6,7,8], dtype='float32')\n",
    "    y = lifting._forward(x)\n",
    "    y_inv = lifting._inverse(y)\n",
    "    assert tf.norm(x-y_inv) < 1e-06  # Occasional floating point errors prevent a perfect equality.\n",
    "    \n",
    "test_lifting_layer_inverse()"
   ]
  }
 ],
 "metadata": {
  "colab": {
   "collapsed_sections": [],
   "include_colab_link": true,
   "name": "wavelet.ipynb",
   "provenance": [],
   "version": "0.3.2"
  },
  "kernelspec": {
   "display_name": "wavelet",
   "language": "python",
   "name": "wavelet"
  },
  "language_info": {
   "codemirror_mode": {
    "name": "ipython",
    "version": 3
   },
   "file_extension": ".py",
   "mimetype": "text/x-python",
   "name": "python",
   "nbconvert_exporter": "python",
   "pygments_lexer": "ipython3",
   "version": "3.7.3"
  }
 },
 "nbformat": 4,
 "nbformat_minor": 4
}

{
 "cells": [
  {
   "cell_type": "markdown",
   "metadata": {
    "colab_type": "text",
    "id": "view-in-github"
   },
   "source": [
    "<a href=\"https://colab.research.google.com/github/AustenLamacraft/learning-wavelets/blob/master/wavelet.ipynb\" target=\"_parent\"><img src=\"https://colab.research.google.com/assets/colab-badge.svg\" alt=\"Open In Colab\"/></a>"
   ]
  },
  {
   "cell_type": "code",
   "execution_count": 2,
   "metadata": {
    "colab": {
     "base_uri": "https://localhost:8080/",
     "height": 69
    },
    "colab_type": "code",
    "id": "fffWYpdakFBc",
    "outputId": "b8f3620f-810f-4541-e7ca-39ea38e722e7"
   },
   "outputs": [],
   "source": [
    "from __future__ import absolute_import, division, print_function, unicode_literals\n",
    "\n",
    "# !pip install -q tensorflow-gpu==2.0.0-beta1\n",
    "# !pip install -q tensorflow-probability\n",
    "import tensorflow as tf\n",
    "import tensorflow_probability as tfp\n",
    "import math\n",
    "import numpy as np"
   ]
  },
  {
   "cell_type": "code",
   "execution_count": 3,
   "metadata": {
    "colab": {},
    "colab_type": "code",
    "id": "zawfLXHCkXvI"
   },
   "outputs": [],
   "source": [
    "tf.keras.backend.clear_session()  # For easy reset of notebook state."
   ]
  },
  {
   "cell_type": "markdown",
   "metadata": {},
   "source": [
    "# Helper functions"
   ]
  },
  {
   "cell_type": "code",
   "execution_count": 4,
   "metadata": {},
   "outputs": [],
   "source": [
    "def convolve_circular(a, b):\n",
    "    '''\n",
    "    a: vector\n",
    "    b: kernel (must have odd length!)\n",
    "    Naive implementation of circular convolution. The middle entry of b corresponds to the coefficient of z^0:\n",
    "    b[0] b[1] b[2] b[3] b[4]\n",
    "    z^-2 z^-1 z^0  z^1  z^2\n",
    "    '''\n",
    "    len_a = int(tf.size(a))\n",
    "    len_b = int(tf.size(b))\n",
    "    result = np.zeros(len_a)\n",
    "    for i in range(0, len_a):\n",
    "        for j in range(0, len_b):\n",
    "            result[i] += b[-j-1] * a[(i + (j - len_b//2)) % len_a]\n",
    "    return tf.constant(result, dtype='float32')"
   ]
  },
  {
   "cell_type": "code",
   "execution_count": 5,
   "metadata": {},
   "outputs": [
    {
     "data": {
      "text/plain": [
       "<tf.Tensor: id=154, shape=(4,), dtype=float32, numpy=array([ 2., -2., -2.,  2.], dtype=float32)>"
      ]
     },
     "execution_count": 5,
     "metadata": {},
     "output_type": "execute_result"
    }
   ],
   "source": [
    "convolve_circular(tf.constant([1,2,3,4,]), tf.constant([-1, 0, 1]))"
   ]
  },
  {
   "cell_type": "code",
   "execution_count": 6,
   "metadata": {
    "colab": {},
    "colab_type": "code",
    "id": "RkLAHmkDI1Hd"
   },
   "outputs": [],
   "source": [
    "# def convolve_circular_currently_unused(a, b):\n",
    "#   '''\n",
    "#   a: vector\n",
    "#   b: kernel\n",
    "#   Requires that 2*tf.size(b) <= tf.size(a). If this is not satisfied, overlap\n",
    "#   will occur in the convolution.\n",
    "#   '''\n",
    "#   b_padding = tf.constant([[0, int(tf.size(a) - tf.size(b))]])\n",
    "#   b_padded = tf.pad(b, b_padding, \"CONSTANT\")\n",
    "#   a_fft = tf.signal.fft(tf.complex(a, 0.0))\n",
    "#   b_fft = tf.signal.fft(tf.complex(b_padded, 0.0))\n",
    "#   ifft = tf.signal.ifft(a_fft * b_fft)\n",
    "#   return tf.cast(tf.math.real(ifft), 'float32')"
   ]
  },
  {
   "cell_type": "markdown",
   "metadata": {},
   "source": [
    "# Layers"
   ]
  },
  {
   "cell_type": "code",
   "execution_count": 18,
   "metadata": {},
   "outputs": [],
   "source": [
    "class LazyWavelet(tfp.bijectors.Bijector):\n",
    "  '''\n",
    "  This layer corresponds to the downsampling step of a single-step wavelet transform.\n",
    "  Input to _forward: 1D tensor of even length.\n",
    "  Output of _forward: Two stacked 1D tensors of the form [[even x componenents], [odd x components]]\n",
    "  See https://uk.mathworks.com/help/wavelet/ug/lifting-method-for-constructing-wavelets.html\n",
    "  for notation.\n",
    "  '''\n",
    "  def __init__(self,\n",
    "               validate_args=False,\n",
    "               name=\"lazy_wavelet\"):\n",
    "        super().__init__(\n",
    "        validate_args=validate_args,\n",
    "        forward_min_event_ndims=1,\n",
    "        name=name)\n",
    "\n",
    "  def _forward(self, x):\n",
    "    x_evens = x[0::2]\n",
    "    x_odds = x[1::2]\n",
    "    return tf.stack([x_evens, x_odds])\n",
    "\n",
    "  def _inverse(self, y):\n",
    "    x_evens = y[0,:]\n",
    "    x_odds = y[1,:]\n",
    "    x = tf.reshape(tf.stack([x_evens, x_odds], axis=1), shape=[-1])  # interleave evens and odds\n",
    "    return x\n",
    "\n",
    "  def _inverse_log_det_jacobian(self, y):\n",
    "    return 0  # QUESTION: Are these log determinants correct?\n",
    "\n",
    "  def _forward_log_det_jacobian(self, x):\n",
    "    return 0  # QUESTION: Are these log determinants correct?"
   ]
  },
  {
   "cell_type": "code",
   "execution_count": 113,
   "metadata": {
    "colab": {},
    "colab_type": "code",
    "id": "aM6ko1LQkc6S"
   },
   "outputs": [],
   "source": [
    "class Lifting(tfp.bijectors.Bijector):\n",
    "  '''\n",
    "  This layer corresponds to two elementary matrices of the polyphase matrix of a single-step wavelet transform.\n",
    "  Input to _forward: Two stacked 1D tensors of the form [[lowpass wavelet coefficients], [highpass wavelet coefficients]],\n",
    "      i.e. the output of LazyWavelet or another Lifting layer.\n",
    "  Output of _forward: Two stacked 1D tensors of the form [[lowpass wavelet coefficients], [highpass wavelet coefficients]].\n",
    "  See https://uk.mathworks.com/help/wavelet/ug/lifting-method-for-constructing-wavelets.html\n",
    "  for notation.\n",
    "  '''\n",
    "  def __init__(self,\n",
    "               validate_args=False,\n",
    "               name=\"lifting\",\n",
    "               n_lifting_coeffs=3,\n",
    "               P_coeff=tf.random.uniform(shape=(3,)),\n",
    "               U_coeff=tf.random.uniform(shape=(3,))):\n",
    "    super().__init__(\n",
    "        validate_args=validate_args,\n",
    "        forward_min_event_ndims=1,\n",
    "        name=name)\n",
    "    self.n_lifting_coeffs = n_lifting_coeffs\n",
    "    self.P_coeff = tf.Variable(initial_value=P_coeff)  # P: predict (primal lifting)\n",
    "    self.U_coeff = tf.Variable(initial_value=U_coeff)  # U: update (dual lifting)\n",
    "\n",
    "  def _forward(self, x):\n",
    "    x_evens = x[0,:]\n",
    "    x_odds = x[1,:]\n",
    "    evens_conv_P = convolve_circular(x_evens, self.P_coeff)\n",
    "    detail = x_odds - evens_conv_P\n",
    "    detail_conv_U = convolve_circular(detail, self.U_coeff)\n",
    "    average = x_evens + detail_conv_U\n",
    "    return tf.stack([average, detail])\n",
    "\n",
    "  def _inverse(self, y):\n",
    "    average = y[0,:]\n",
    "    detail = y[1,:]\n",
    "    detail_conv_U = convolve_circular(detail, self.U_coeff)\n",
    "    x_evens = average - detail_conv_U\n",
    "    evens_conv_P = convolve_circular(x_evens, self.P_coeff)\n",
    "    x_odds = evens_conv_P + detail\n",
    "    x = tf.stack([x_evens, x_odds])\n",
    "    return x\n",
    "\n",
    "  def _inverse_log_det_jacobian(self, y):\n",
    "    return 0  # QUESTION: Are these log determinants correct?\n",
    "\n",
    "  def _forward_log_det_jacobian(self, x):\n",
    "    return 0  # QUESTION: Are these log determinants correct?"
   ]
  },
  {
   "cell_type": "markdown",
   "metadata": {},
   "source": [
    "# Tests"
   ]
  },
  {
   "cell_type": "markdown",
   "metadata": {},
   "source": [
    "## LazyWavelet layer"
   ]
  },
  {
   "cell_type": "code",
   "execution_count": 40,
   "metadata": {},
   "outputs": [],
   "source": [
    "def test_lazy_wavelet_layer(x, y_expected):\n",
    "    lazy_layer = LazyWavelet()\n",
    "    y_result = lazy_layer._forward(x)\n",
    "    assert tf.reduce_all(tf.math.equal(y_expected, y_result))\n",
    "    \n",
    "test_lazy_wavelet_layer(tf.constant([1,2,3,4,5,6,7,8], dtype='float32'), tf.constant([[1,3,5,7], [2,4,6,8]], dtype='float32'))"
   ]
  },
  {
   "cell_type": "code",
   "execution_count": 112,
   "metadata": {},
   "outputs": [],
   "source": [
    "def test_lazy_wavelet_layer_inverse():\n",
    "    lazy_layer = LazyWavelet()\n",
    "    x = tf.constant([1,2,3,4,5,6,7,8], dtype='float32')\n",
    "    y = lazy_layer._forward(x)\n",
    "    y_inv = lazy_layer._inverse(y)\n",
    "    assert tf.norm(x-y_inv) < 1e-06\n",
    "\n",
    "test_lazy_wavelet_layer_inverse()"
   ]
  },
  {
   "cell_type": "markdown",
   "metadata": {},
   "source": [
    "## Lifting layer"
   ]
  },
  {
   "cell_type": "code",
   "execution_count": 114,
   "metadata": {},
   "outputs": [],
   "source": [
    "def test_lifting_layer(x, P_coeff, U_coeff, y_expected):\n",
    "    lifting = Lifting(P_coeff=P_coeff, U_coeff=U_coeff)\n",
    "    y_result = lifting.forward(x)\n",
    "    assert tf.reduce_all(tf.math.equal(y_expected, y_result))"
   ]
  },
  {
   "cell_type": "code",
   "execution_count": 115,
   "metadata": {},
   "outputs": [],
   "source": [
    "# Haar wavelet, verified with MATLAB:\n",
    "# y_expected = dwt(x, [1/2, 1/2], [1, -1]))\n",
    "test_lifting_layer(x=tf.constant([[1,3,5,7], [2,4,6,8]], dtype='float32'),\n",
    "                   P_coeff=tf.constant([1.]),\n",
    "                   U_coeff=tf.constant([.5]),\n",
    "                   y_expected=tf.constant([[1.5, 3.5, 5.5, 7.5], [1.,  1.,  1.,  1.]]))"
   ]
  },
  {
   "cell_type": "code",
   "execution_count": 116,
   "metadata": {},
   "outputs": [],
   "source": [
    "# Wavelet with lowpass filter h(z) = (1/8) * (2z^3 - z^2 + 2z + 6 - z^-2) and highpass\n",
    "# filter g(z) = (-1/2)z^-2 - 1/2 + z.\n",
    "# The output can be verified by doing circular convolution manually. MATLAB's dwt is not\n",
    "# usable for verification, since it seems to only take causal filters as arguments.\n",
    "test_lifting_layer(x=tf.constant([[1,3,5,7], [2,4,6,8]], dtype='float32'),\n",
    "                   P_coeff=tf.constant([0, .5, .5]),\n",
    "                   U_coeff=tf.constant([.25, .25, 0]),\n",
    "                   y_expected=tf.constant([[1., 4., 6., 7.], [-2., 2., 2., 2.]]))"
   ]
  },
  {
   "cell_type": "code",
   "execution_count": 117,
   "metadata": {},
   "outputs": [],
   "source": [
    "def test_lifting_layer_inverse():\n",
    "    lifting = Lifting()\n",
    "    x = tf.constant([[1,3,5,7], [2,4,6,8]], dtype='float32')\n",
    "    y = lifting._forward(x)\n",
    "    y_inv = lifting._inverse(y)\n",
    "    assert tf.norm(x-y_inv) < 1e-06\n",
    "    \n",
    "test_lifting_layer_inverse()"
   ]
  },
  {
   "cell_type": "markdown",
   "metadata": {},
   "source": [
    "## Chain(Lifting, LazyWavelet)"
   ]
  },
  {
   "cell_type": "code",
   "execution_count": 118,
   "metadata": {},
   "outputs": [],
   "source": [
    "def test_chain_of_lifting_and_lazy_wavelet():\n",
    "    x = tf.constant([1,2,3,4,5,6,7,8], dtype='float32')\n",
    "    y_expected = tf.constant([[1., 4., 6., 7.], [-2., 2., 2., 2.]])\n",
    "    chain = tfp.bijectors.Chain([Lifting(P_coeff=tf.constant([0, .5, .5]),U_coeff=tf.constant([.25, .25, 0])), LazyWavelet()])\n",
    "    y_result = chain.forward(x)\n",
    "    assert tf.reduce_all(tf.math.equal(y_expected, y_result))\n",
    "    \n",
    "test_chain_of_lifting_and_lazy_wavelet()"
   ]
  },
  {
   "cell_type": "code",
   "execution_count": 119,
   "metadata": {},
   "outputs": [],
   "source": [
    "def test_chain_of_lifting_and_lazy_wavelet_inverse():\n",
    "    x = tf.constant([1,2,3,4,5,6,7,8], dtype='float32')\n",
    "    chain = tfp.bijectors.Chain([Lifting(P_coeff=tf.constant([0, .5, .5]),U_coeff=tf.constant([.25, .25, 0])), LazyWavelet()])\n",
    "    y = chain.forward(x)\n",
    "    y_inv = chain._inverse(y)\n",
    "    assert tf.norm(x-y_inv) < 1e-06\n",
    "    \n",
    "test_chain_of_lifting_and_lazy_wavelet_inverse()"
   ]
  },
  {
   "cell_type": "markdown",
   "metadata": {},
   "source": [
    "# Chaining multiple lifting layers"
   ]
  },
  {
   "cell_type": "code",
   "execution_count": 132,
   "metadata": {},
   "outputs": [],
   "source": [
    "network = tfp.bijectors.Chain([Lifting(), Lifting(), Lifting(), Lifting(), Lifting(), LazyWavelet()])"
   ]
  },
  {
   "cell_type": "code",
   "execution_count": 145,
   "metadata": {},
   "outputs": [
    {
     "name": "stdout",
     "output_type": "stream",
     "text": [
      "tf.Tensor(\n",
      "[[-15.473223    -0.96022964  13.144677     4.2084436 ]\n",
      " [ -3.5964892   18.506632     0.16573715 -27.894365  ]], shape=(2, 4), dtype=float32)\n"
     ]
    },
    {
     "data": {
      "text/plain": [
       "<tf.Tensor: id=26337, shape=(8,), dtype=float32, numpy=array([1., 2., 3., 4., 5., 6., 7., 8.], dtype=float32)>"
      ]
     },
     "execution_count": 145,
     "metadata": {},
     "output_type": "execute_result"
    }
   ],
   "source": [
    "x = tf.constant([1,2,3,4,5,6,7,8], dtype='float32')\n",
    "\n",
    "y = network.forward(x)\n",
    "print(y)\n",
    "\n",
    "network.inverse(y)"
   ]
  },
  {
   "cell_type": "markdown",
   "metadata": {},
   "source": [
    "# Polyphase matrix -> wavelet filters"
   ]
  },
  {
   "cell_type": "markdown",
   "metadata": {},
   "source": [
    "## How to reconstruct lowpass and highpass wavelet filters from a given polyphase matrix."
   ]
  },
  {
   "cell_type": "markdown",
   "metadata": {},
   "source": [
    "Assume that we are using a polyphase matrix $M =\n",
    "  \\begin{bmatrix}\n",
    "    a(z) & b(z) \\\\\n",
    "    c(z) & d(z)\n",
    "  \\end{bmatrix}$ to do a wavelet transform of a vector X: $\n",
    "  \\begin{bmatrix}\n",
    "    \\text{lowpass_coefficients}(z) \\\\\n",
    "    \\text{highpass_coefficients}(z)\n",
    "  \\end{bmatrix} = M\n",
    "  \\begin{bmatrix}\n",
    "    X_{e}(z) \\\\\n",
    "    X_{o}(z)\n",
    "  \\end{bmatrix}$\n",
    "  \n",
    "Let the lowpass filter corresponding to M be $h(z) = h_e(z) + z^{-1}h_o(z^2)$.\n",
    "\n",
    "Let the highpass filter corresponding to M be $g(z) = g_e(z) + z^{-1}g_o(z^2)$.\n",
    "\n",
    "Then, using formulas 4.25 and 4.26 from \"Wavelet and Filter Banks\"[Strang, Nguyen], we get $$M =\n",
    "  \\begin{bmatrix}\n",
    "    a(z) & b(z) \\\\\n",
    "    c(z) & d(z)\n",
    "  \\end{bmatrix} = \n",
    "  \\begin{bmatrix}\n",
    "    h_e(z) & z^{-1}h_o(z) \\\\\n",
    "    g_e(z) & z^{-1}g_o(z)\n",
    "  \\end{bmatrix}\n",
    "  $$\n",
    "and thus $$h(z) = a(z^2) + zb(z^2) \\\\ g(z) = c(z^2) + zd(z^2)$$\n",
    "\n",
    "  "
   ]
  }
 ],
 "metadata": {
  "colab": {
   "collapsed_sections": [],
   "include_colab_link": true,
   "name": "wavelet.ipynb",
   "provenance": [],
   "version": "0.3.2"
  },
  "kernelspec": {
   "display_name": "wavelet",
   "language": "python",
   "name": "wavelet"
  },
  "language_info": {
   "codemirror_mode": {
    "name": "ipython",
    "version": 3
   },
   "file_extension": ".py",
   "mimetype": "text/x-python",
   "name": "python",
   "nbconvert_exporter": "python",
   "pygments_lexer": "ipython3",
   "version": "3.7.3"
  }
 },
 "nbformat": 4,
 "nbformat_minor": 4
}

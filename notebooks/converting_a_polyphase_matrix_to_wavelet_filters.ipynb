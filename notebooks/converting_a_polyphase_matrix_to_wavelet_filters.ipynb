{
 "cells": [
  {
   "cell_type": "markdown",
   "metadata": {},
   "source": [
    "# Polyphase matrix -> wavelet filters"
   ]
  },
  {
   "cell_type": "markdown",
   "metadata": {},
   "source": [
    "## How to reconstruct lowpass and highpass wavelet filters from a given polyphase matrix."
   ]
  },
  {
   "cell_type": "markdown",
   "metadata": {},
   "source": [
    "Assume that we are using a polyphase matrix $M =\n",
    "  \\begin{bmatrix}\n",
    "    a(z) & b(z) \\\\\n",
    "    c(z) & d(z)\n",
    "  \\end{bmatrix}$ to do a wavelet transform of a vector X: $\n",
    "  \\begin{bmatrix}\n",
    "    \\text{lowpass_coefficients}(z) \\\\\n",
    "    \\text{highpass_coefficients}(z)\n",
    "  \\end{bmatrix} = M\n",
    "  \\begin{bmatrix}\n",
    "    X_{e}(z) \\\\\n",
    "    X_{o}(z)\n",
    "  \\end{bmatrix}$\n",
    "  \n",
    "Let the lowpass filter corresponding to M be $h(z) = h_e(z) + z^{-1}h_o(z^2)$.\n",
    "\n",
    "Let the highpass filter corresponding to M be $g(z) = g_e(z) + z^{-1}g_o(z^2)$.\n",
    "\n",
    "Then, using formulas 4.25 and 4.26 from \"Wavelet and Filter Banks\"[Strang, Nguyen], we get $$M =\n",
    "  \\begin{bmatrix}\n",
    "    a(z) & b(z) \\\\\n",
    "    c(z) & d(z)\n",
    "  \\end{bmatrix} = \n",
    "  \\begin{bmatrix}\n",
    "    h_e(z) & z^{-1}h_o(z) \\\\\n",
    "    g_e(z) & z^{-1}g_o(z)\n",
    "  \\end{bmatrix}\n",
    "  $$\n",
    "and thus $$h(z) = a(z^2) + zb(z^2) \\\\ g(z) = c(z^2) + zd(z^2)$$\n",
    "\n",
    "  "
   ]
  }
 ],
 "metadata": {
  "kernelspec": {
   "display_name": "wavelet",
   "language": "python",
   "name": "wavelet"
  },
  "language_info": {
   "codemirror_mode": {
    "name": "ipython",
    "version": 3
   },
   "file_extension": ".py",
   "mimetype": "text/x-python",
   "name": "python",
   "nbconvert_exporter": "python",
   "pygments_lexer": "ipython3",
   "version": "3.7.3"
  }
 },
 "nbformat": 4,
 "nbformat_minor": 4
}
